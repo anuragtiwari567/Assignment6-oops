{
 "cells": [
  {
   "cell_type": "markdown",
   "id": "9fc1aff5-8764-493b-95c5-b5f276cad084",
   "metadata": {},
   "source": [
    "Q1. Explain Class and Object with respect to Object-Oriented Programming. Give a suitable example.\n",
    "\n",
    "ANS:\n",
    "\n",
    "Class: A class is a user-defined data type that encapsulates data (attributes) and functions (methods) that operate on that data. It serves as a blueprint for creating objects of that class. A class defines the structure and behavior of its objects.\n",
    "\n",
    "Object: An object is an instance of a class. It represents a specific entity or concept with its own set of attributes and behavior as defined by the class. Objects are created using the constructor of the class and can interact with each other by invoking their methods.\n"
   ]
  },
  {
   "cell_type": "code",
   "execution_count": 1,
   "id": "028edbb9-ae76-4be8-be40-84b34d131289",
   "metadata": {},
   "outputs": [],
   "source": [
    "# Defining a class\n",
    "class Car:\n",
    "    def __init__(self, make, model):\n",
    "        self.make = make\n",
    "        self.model = model\n",
    "        self.speed = 0\n",
    "\n",
    "    def accelerate(self, increment):\n",
    "        self.speed += increment\n",
    "\n",
    "    def brake(self, decrement):\n",
    "        if self.speed >= decrement:\n",
    "            self.speed -= decrement\n",
    "        else:\n",
    "            self.speed = 0"
   ]
  },
  {
   "cell_type": "code",
   "execution_count": 2,
   "id": "a1652048-9fef-48fd-bd38-6291c2c05077",
   "metadata": {},
   "outputs": [],
   "source": [
    "# Creating objects (instances) of the Car class\n",
    "car1 = Car(\"Toyota\", \"Camry\")\n",
    "car2 = Car(\"Tesla\", \"Model 3\")\n"
   ]
  },
  {
   "cell_type": "code",
   "execution_count": 6,
   "id": "bcca37fa-6b0b-4a7d-89b2-dd5519b93cdc",
   "metadata": {},
   "outputs": [
    {
     "name": "stdout",
     "output_type": "stream",
     "text": [
      "Toyota Camry Speed: 270 km/h\n",
      "Tesla Model 3 Speed: 155 km/h\n"
     ]
    }
   ],
   "source": [
    "# Using object methods to interact with the objects\n",
    "car1.accelerate(80)\n",
    "car2.accelerate(45)\n",
    "\n",
    "print(f\"{car1.make} {car1.model} Speed: {car1.speed} km/h\")\n",
    "print(f\"{car2.make} {car2.model} Speed: {car2.speed} km/h\")\n"
   ]
  },
  {
   "cell_type": "code",
   "execution_count": 9,
   "id": "7fc6ad2f-f134-4089-8935-84d4d2270253",
   "metadata": {},
   "outputs": [
    {
     "name": "stdout",
     "output_type": "stream",
     "text": [
      "Toyota Camry Speed after braking: 140 km/h\n",
      "Tesla Model 3 Speed after braking: 80 km/h\n"
     ]
    }
   ],
   "source": [
    "car1.brake(70)\n",
    "car2.brake(50)\n",
    "\n",
    "print(f\"{car1.make} {car1.model} Speed after braking: {car1.speed} km/h\")\n",
    "print(f\"{car2.make} {car2.model} Speed after braking: {car2.speed} km/h\")"
   ]
  },
  {
   "cell_type": "code",
   "execution_count": null,
   "id": "5442d3de-b936-42a7-be2d-f33f73235579",
   "metadata": {},
   "outputs": [],
   "source": []
  },
  {
   "cell_type": "markdown",
   "id": "d84a1b14-568f-4dc4-bc29-5a3f95c3eb22",
   "metadata": {},
   "source": [
    "Q2. Name the four pillars of OOPs.\n",
    "\n",
    "ANS:  \n",
    "The four pillars of Object-Oriented Programming (OOP) are:\n",
    "\n",
    "Encapsulation: Encapsulation refers to the bundling of data (attributes) and the methods (functions) that operate on that data into a single unit called a class. It hides the internal implementation details of an object from the outside world, providing access only through well-defined interfaces. Encapsulation helps achieve data hiding and protects the integrity of the data.\n",
    "\n",
    "Abstraction: Abstraction involves simplifying complex reality by modeling classes based on the essential properties and behaviors of objects, while ignoring irrelevant details. It allows programmers to focus on the high-level structure and functionality of objects without getting bogged down in implementation specifics.\n",
    "\n",
    "Inheritance: Inheritance enables the creation of a new class (subclass or derived class) based on an existing class (base class or parent class). The subclass inherits the attributes and methods of the base class and can also extend or override them as needed. Inheritance promotes code reuse and the creation of hierarchical relationships among classes.\n",
    "\n",
    "Polymorphism: Polymorphism allows objects of different classes to be treated as objects of a common superclass. It involves the ability of different classes to provide a common interface (methods with the same names) but with varying implementations. This enables more flexible and generic coding, as the same code can be used to operate on objects of different classes, as long as they adhere to the common interface."
   ]
  },
  {
   "cell_type": "code",
   "execution_count": null,
   "id": "765718a2-e585-430b-adfa-84db7c2b90f2",
   "metadata": {},
   "outputs": [],
   "source": []
  },
  {
   "cell_type": "markdown",
   "id": "968672ef-2a67-46ea-9521-92755efb619f",
   "metadata": {},
   "source": [
    "Q3. Explain why the __init__() function is used. Give a suitable example.\n",
    "\n",
    "ANS:  In object-oriented programming, the __init__() function (constructor) is used to initialize the attributes of an object when it is created from a class. It's a special method that gets automatically called when an object is instantiated. This is where you can set up the initial state of the object by assigning values to its attributes."
   ]
  },
  {
   "cell_type": "code",
   "execution_count": 10,
   "id": "1c6b7cfe-b4a4-45ed-a00c-557eb7b33e89",
   "metadata": {},
   "outputs": [],
   "source": [
    "class Person:\n",
    "    def __init__(self, name, age):\n",
    "        self.name = name\n",
    "        self.age = age\n",
    "\n",
    "    def introduce(self):\n",
    "        print(f\"Hi, my name is {self.name} and I am {self.age} years old.\")\n",
    "\n"
   ]
  },
  {
   "cell_type": "code",
   "execution_count": 13,
   "id": "7fbd12f4-e28f-4737-bd9e-e269ac013da2",
   "metadata": {},
   "outputs": [],
   "source": [
    "# Creating objects of the Person class\n",
    "person1 = Person(\"Manish\", 30)\n",
    "person2 = Person(\"Bradley\", 25)\n",
    "\n"
   ]
  },
  {
   "cell_type": "code",
   "execution_count": 14,
   "id": "54e6affc-0414-437e-ac17-3f1513ea5ae5",
   "metadata": {},
   "outputs": [
    {
     "name": "stdout",
     "output_type": "stream",
     "text": [
      "Hi, my name is Manish and I am 30 years old.\n",
      "Hi, my name is Bradley and I am 25 years old.\n"
     ]
    }
   ],
   "source": [
    "# Calling the introduce method on the objects\n",
    "person1.introduce()\n",
    "person2.introduce()\n"
   ]
  },
  {
   "cell_type": "code",
   "execution_count": null,
   "id": "53645cb2-ebe6-4766-a517-d4c5caf7a0f9",
   "metadata": {},
   "outputs": [],
   "source": []
  },
  {
   "cell_type": "markdown",
   "id": "e40eb2c9-0699-4ba4-869c-4150fc2407be",
   "metadata": {},
   "source": [
    "Q4. Why self is used in OOPs?\n",
    "\n",
    "ANS:\n",
    "\n",
    "In Object-Oriented Programming (OOP), the self keyword is used to refer to the instance of the class within its methods. It allows you to access the attributes and methods of the instance from within those methods. The self parameter is the first parameter in most instance methods and serves as a reference to the object itself.\n",
    "\n",
    "Here's why self is used and why it's important:\n",
    "\n",
    "Instance Context: In OOP, you often define classes to create objects with specific attributes and behavior. The self parameter allows methods to know which particular instance of the class is currently being operated on. It provides a way for methods to access and modify the attributes of that instance.\n",
    "\n",
    "Attribute Access: By using self, you can access instance attributes (variables) within the methods of the class. It helps you differentiate between the attributes of the current instance and any other attributes that might exist in the class.\n",
    "\n",
    "Method Invocation: When a method is called on an instance of a class, the instance is automatically passed as the self argument to the method. This allows the method to operate on the specific instance, making it possible to modify its state."
   ]
  },
  {
   "cell_type": "code",
   "execution_count": null,
   "id": "4af9989d-adce-48c1-a62b-adfdbfe269da",
   "metadata": {},
   "outputs": [],
   "source": []
  },
  {
   "cell_type": "markdown",
   "id": "f335ac25-e237-461d-b7a1-203eef72af67",
   "metadata": {},
   "source": [
    "Q5. What is inheritance? Give an example for each type of inheritance.\n",
    "\n",
    "ANS:\n",
    "\n",
    "Inheritance is a fundamental concept in object-oriented programming (OOP) that allows you to create a new class (subclass or derived class) based on an existing class (base class or parent class). The subclass inherits attributes and methods from the base class, and it can also extend or override them. Inheritance promotes code reuse and facilitates the creation of hierarchical relationships among classes.\n",
    "\n",
    "There are different types of inheritance:\n",
    "\n",
    "Single Inheritance: In single inheritance, a subclass inherits from a single base class.\n",
    "\n",
    "Multiple Inheritance: In multiple inheritance, a subclass inherits from more than one base class.\n",
    "\n",
    "Multilevel Inheritance: In multilevel inheritance, a subclass inherits from another subclass, forming a chain.\n",
    "\n",
    "Hierarchical Inheritance: In hierarchical inheritance, multiple subclasses inherit from a single base class.\n",
    "\n",
    "\n",
    "Multilevel Inheritance:"
   ]
  },
  {
   "cell_type": "code",
   "execution_count": 32,
   "id": "b90b9208-eb4b-407c-b7ef-dc146dd01520",
   "metadata": {},
   "outputs": [],
   "source": [
    "#Single Inheritance\n",
    "class animal:\n",
    "    def speak(self):\n",
    "        pass\n",
    "\n",
    "class dog(animal):\n",
    "    def speak(self):\n",
    "        return \"Woof!\"\n",
    "\n",
    "class cat(animal):\n",
    "    def speak(self):\n",
    "        return \"Meow!\"\n"
   ]
  },
  {
   "cell_type": "code",
   "execution_count": 37,
   "id": "fa394eaf-fd4b-4083-bec4-333f824f5081",
   "metadata": {},
   "outputs": [],
   "source": [
    "dog1=dog()\n",
    "dog2=dog()\n",
    "cat1=cat()\n",
    "cat2=cat()"
   ]
  },
  {
   "cell_type": "code",
   "execution_count": 41,
   "id": "e67c8b0c-28ba-4237-86ca-9c8af5b556d7",
   "metadata": {},
   "outputs": [
    {
     "data": {
      "text/plain": [
       "'Woof!'"
      ]
     },
     "execution_count": 41,
     "metadata": {},
     "output_type": "execute_result"
    }
   ],
   "source": [
    "dog.speak('tommy')"
   ]
  },
  {
   "cell_type": "code",
   "execution_count": 42,
   "id": "cf68db94-a6ae-440f-90f4-3bb2399851e9",
   "metadata": {},
   "outputs": [
    {
     "data": {
      "text/plain": [
       "'Meow!'"
      ]
     },
     "execution_count": 42,
     "metadata": {},
     "output_type": "execute_result"
    }
   ],
   "source": [
    "cat.speak('kitty')"
   ]
  },
  {
   "cell_type": "code",
   "execution_count": null,
   "id": "237579d2-efb1-4e35-bfd2-03fb06dbd54c",
   "metadata": {},
   "outputs": [],
   "source": []
  },
  {
   "cell_type": "code",
   "execution_count": 43,
   "id": "466ddbab-e3df-4a23-a0c8-0781489b3dd0",
   "metadata": {},
   "outputs": [],
   "source": [
    "#Multiple Inheritance\n",
    "class Bird:\n",
    "    def fly(self):\n",
    "        return \"I can fly!\"\n",
    "\n",
    "class Mammal:\n",
    "    def feed_milk(self):\n",
    "        return \"I can feed milk!\"\n",
    "\n",
    "class Bat(Bird, Mammal):\n",
    "    pass\n"
   ]
  },
  {
   "cell_type": "code",
   "execution_count": 44,
   "id": "1f955297-6d36-4ef1-a650-947396f7ae97",
   "metadata": {},
   "outputs": [],
   "source": [
    "Bat1=Bat()"
   ]
  },
  {
   "cell_type": "code",
   "execution_count": 46,
   "id": "2deb6dff-703e-4fc1-ad00-602e190cc444",
   "metadata": {},
   "outputs": [
    {
     "data": {
      "text/plain": [
       "'I can feed milk!'"
      ]
     },
     "execution_count": 46,
     "metadata": {},
     "output_type": "execute_result"
    }
   ],
   "source": [
    "Bat1.feed_milk()"
   ]
  },
  {
   "cell_type": "code",
   "execution_count": 48,
   "id": "4a002827-fc71-40f4-8174-704c73604f7d",
   "metadata": {},
   "outputs": [
    {
     "data": {
      "text/plain": [
       "'I can fly!'"
      ]
     },
     "execution_count": 48,
     "metadata": {},
     "output_type": "execute_result"
    }
   ],
   "source": [
    "Bat1.fly()"
   ]
  },
  {
   "cell_type": "code",
   "execution_count": null,
   "id": "f1008f68-dc28-488c-afdd-d9ac002f804f",
   "metadata": {},
   "outputs": [],
   "source": []
  },
  {
   "cell_type": "code",
   "execution_count": 49,
   "id": "91fcbdba-b1c2-4b34-8374-a55f0a2f9158",
   "metadata": {},
   "outputs": [],
   "source": [
    "#Multilevel Inheritance\n",
    "class Vehicle:\n",
    "    def start_engine(self):\n",
    "        return \"Engine started.\"\n",
    "\n",
    "class Car(Vehicle):\n",
    "    def drive(self):\n",
    "        return \"Car is being driven.\"\n",
    "\n",
    "class ElectricCar(Car):\n",
    "    def charge(self):\n",
    "        return \"Car is charging.\"\n"
   ]
  },
  {
   "cell_type": "code",
   "execution_count": 53,
   "id": "42ca5114-69de-4d21-836b-e0123f37417a",
   "metadata": {},
   "outputs": [],
   "source": [
    "car = Car()\n",
    "electric_car = ElectricCar()"
   ]
  },
  {
   "cell_type": "code",
   "execution_count": 55,
   "id": "a62ea59e-074f-463e-ab3f-990f00411f33",
   "metadata": {},
   "outputs": [
    {
     "data": {
      "text/plain": [
       "'Engine started.'"
      ]
     },
     "execution_count": 55,
     "metadata": {},
     "output_type": "execute_result"
    }
   ],
   "source": [
    "car.start_engine()"
   ]
  },
  {
   "cell_type": "code",
   "execution_count": 56,
   "id": "89eb8526-032c-4925-9566-391b444ce825",
   "metadata": {},
   "outputs": [
    {
     "data": {
      "text/plain": [
       "'Car is being driven.'"
      ]
     },
     "execution_count": 56,
     "metadata": {},
     "output_type": "execute_result"
    }
   ],
   "source": [
    "car.drive()"
   ]
  },
  {
   "cell_type": "code",
   "execution_count": 57,
   "id": "396e6882-9ca5-4758-a6c8-c6281f440818",
   "metadata": {},
   "outputs": [
    {
     "data": {
      "text/plain": [
       "'Car is charging.'"
      ]
     },
     "execution_count": 57,
     "metadata": {},
     "output_type": "execute_result"
    }
   ],
   "source": [
    "electric_car.charge()"
   ]
  },
  {
   "cell_type": "code",
   "execution_count": null,
   "id": "cb5ac776-1945-4ac6-a49f-d42a33b9a93a",
   "metadata": {},
   "outputs": [],
   "source": []
  },
  {
   "cell_type": "code",
   "execution_count": 58,
   "id": "d1d27cd2-2298-4410-bf93-c770ec1e77df",
   "metadata": {},
   "outputs": [],
   "source": [
    "#Hierarchical Inheritance\n",
    "class Shape:\n",
    "    def area(self):\n",
    "        pass\n",
    "\n",
    "class Circle(Shape):\n",
    "    def area(self, radius):\n",
    "        return 3.14 * radius * radius\n",
    "\n",
    "class Rectangle(Shape):\n",
    "    def area(self, length, width):\n",
    "        return length * width\n"
   ]
  },
  {
   "cell_type": "code",
   "execution_count": 59,
   "id": "194464a8-5e57-4b45-83e3-aeef64984f78",
   "metadata": {},
   "outputs": [],
   "source": [
    "circle=Circle()\n",
    "rectangle=Rectangle()"
   ]
  },
  {
   "cell_type": "code",
   "execution_count": 61,
   "id": "d4858136-ea2b-4af5-b178-d1a86648c976",
   "metadata": {},
   "outputs": [
    {
     "data": {
      "text/plain": [
       "78.5"
      ]
     },
     "execution_count": 61,
     "metadata": {},
     "output_type": "execute_result"
    }
   ],
   "source": [
    "circle.area(5)"
   ]
  },
  {
   "cell_type": "code",
   "execution_count": 62,
   "id": "a7c0352a-37a8-4f18-a4a2-dbd2de89ad19",
   "metadata": {},
   "outputs": [
    {
     "data": {
      "text/plain": [
       "24"
      ]
     },
     "execution_count": 62,
     "metadata": {},
     "output_type": "execute_result"
    }
   ],
   "source": [
    "rectangle.area(4,6)"
   ]
  },
  {
   "cell_type": "code",
   "execution_count": null,
   "id": "22599463-16c4-4bc1-b903-12318c51a4b5",
   "metadata": {},
   "outputs": [],
   "source": []
  },
  {
   "cell_type": "code",
   "execution_count": null,
   "id": "45740eb2-ab95-493b-a515-a140204d35f4",
   "metadata": {},
   "outputs": [],
   "source": []
  }
 ],
 "metadata": {
  "kernelspec": {
   "display_name": "Python 3 (ipykernel)",
   "language": "python",
   "name": "python3"
  },
  "language_info": {
   "codemirror_mode": {
    "name": "ipython",
    "version": 3
   },
   "file_extension": ".py",
   "mimetype": "text/x-python",
   "name": "python",
   "nbconvert_exporter": "python",
   "pygments_lexer": "ipython3",
   "version": "3.10.8"
  }
 },
 "nbformat": 4,
 "nbformat_minor": 5
}
